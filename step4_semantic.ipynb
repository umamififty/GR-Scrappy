{
 "cells": [
  {
   "cell_type": "code",
   "execution_count": 10,
   "id": "86da92bd",
   "metadata": {},
   "outputs": [
    {
     "name": "stdout",
     "output_type": "stream",
     "text": [
      "✓ Done. Found 110708 cross-departmental overlaps.\n"
     ]
    }
   ],
   "source": [
    "import os\n",
    "import numpy as np\n",
    "import glob\n",
    "from sklearn.metrics.pairwise import cosine_similarity\n",
    "import itertools\n",
    "import csv\n",
    "\n",
    "EMBED_DIR = \"policy_embeddings\"\n",
    "THRESHOLD = 0.95\n",
    "\n",
    "# Helper to extract department from path\n",
    "def get_department(filepath):\n",
    "    rel_path = os.path.relpath(filepath, EMBED_DIR)\n",
    "    parts = rel_path.split(os.sep)\n",
    "    return parts[0] if len(parts) >= 1 else \"Unknown\"\n",
    "\n",
    "# Load all .npy embeddings\n",
    "files = glob.glob(os.path.join(EMBED_DIR, \"**/*.npy\"), recursive=True)\n",
    "embeddings = {}\n",
    "departments = {}\n",
    "\n",
    "for f in files:\n",
    "    emb = np.load(f)\n",
    "    if emb.shape[0] < 2:\n",
    "        continue  # skip tiny ones\n",
    "    embeddings[f] = emb\n",
    "    departments[f] = get_department(f)\n",
    "\n",
    "# Compare only across departments\n",
    "results = []\n",
    "pairs = list(itertools.combinations(embeddings.items(), 2))\n",
    "\n",
    "for (f1, emb1), (f2, emb2) in pairs:\n",
    "    if departments[f1] == departments[f2]:\n",
    "        continue  # Skip same-department pairs\n",
    "\n",
    "    sims = cosine_similarity(emb1, emb2)\n",
    "    overlap_count = np.sum(sims > THRESHOLD)\n",
    "    \n",
    "    if overlap_count > 0:\n",
    "        results.append((os.path.basename(f1), os.path.basename(f2), departments[f1], departments[f2], overlap_count))\n",
    "\n",
    "# Save result\n",
    "with open(\"cross_department_overlap.csv\", \"w\") as f:\n",
    "    writer = csv.writer(f)\n",
    "    writer.writerow([\"Policy 1\", \"Policy 2\", \"Dept 1\", \"Dept 2\", f\"Overlap (sim>{THRESHOLD})\"])\n",
    "    for r in results:\n",
    "        writer.writerow(r)\n",
    "\n",
    "print(f\"✓ Done. Found {len(results)} cross-departmental overlaps.\")"
   ]
  }
 ],
 "metadata": {
  "kernelspec": {
   "display_name": "Python 3",
   "language": "python",
   "name": "python3"
  },
  "language_info": {
   "codemirror_mode": {
    "name": "ipython",
    "version": 3
   },
   "file_extension": ".py",
   "mimetype": "text/x-python",
   "name": "python",
   "nbconvert_exporter": "python",
   "pygments_lexer": "ipython3",
   "version": "3.12.5"
  }
 },
 "nbformat": 4,
 "nbformat_minor": 5
}
